{
  "metadata": {
    "kernelspec": {
      "language": "python",
      "display_name": "Python 3",
      "name": "python3"
    },
    "language_info": {
      "name": "python",
      "version": "3.11.11",
      "mimetype": "text/x-python",
      "codemirror_mode": {
        "name": "ipython",
        "version": 3
      },
      "pygments_lexer": "ipython3",
      "nbconvert_exporter": "python",
      "file_extension": ".py"
    },
    "kaggle": {
      "accelerator": "none",
      "dataSources": [],
      "dockerImageVersionId": 31012,
      "isInternetEnabled": true,
      "language": "python",
      "sourceType": "notebook",
      "isGpuEnabled": false
    },
    "colab": {
      "provenance": [],
      "include_colab_link": true
    }
  },
  "nbformat_minor": 0,
  "nbformat": 4,
  "cells": [
    {
      "cell_type": "markdown",
      "metadata": {
        "id": "view-in-github",
        "colab_type": "text"
      },
      "source": [
        "<a href=\"https://colab.research.google.com/github/Sam-ai904/Huatai-Model/blob/main/%E9%81%97%E4%BC%A0%E8%A7%84%E5%88%92_%E7%A0%94%E6%8A%A5%E7%89%88%2B%E9%AB%98%E6%80%A7%E8%83%BD.ipynb\" target=\"_parent\"><img src=\"https://colab.research.google.com/assets/colab-badge.svg\" alt=\"Open In Colab\"/></a>"
      ]
    },
    {
      "cell_type": "code",
      "source": [
        "#!pip install tushare\n",
        "!pip install bottleneck\n",
        "import tushare as ts\n",
        "import pandas as pd\n",
        "import numpy as np\n",
        "import random\n",
        "from scipy.stats import spearmanr\n",
        "from sklearn.linear_model import LinearRegression\n",
        "import bottleneck as bn\n"
      ],
      "metadata": {
        "_uuid": "8f2839f25d086af736a60e9eeb907d3b93b6e0e5",
        "_cell_guid": "b1076dfc-b9ad-4769-8c92-a6c4dae69d19",
        "trusted": true,
        "execution": {
          "iopub.status.busy": "2025-04-12T08:57:22.605947Z",
          "iopub.status.idle": "2025-04-12T08:57:24.081026Z",
          "shell.execute_reply.started": "2025-04-12T08:57:22.606357Z",
          "shell.execute_reply": "2025-04-12T08:57:24.079938Z"
        },
        "id": "wsS1vVYXOJfE",
        "colab": {
          "base_uri": "https://localhost:8080/"
        },
        "outputId": "10956adc-3305-47e7-f141-cf8ef233367c"
      },
      "outputs": [
        {
          "output_type": "stream",
          "name": "stdout",
          "text": [
            "Requirement already satisfied: bottleneck in /usr/local/lib/python3.11/dist-packages (1.4.2)\n",
            "Requirement already satisfied: numpy in /usr/local/lib/python3.11/dist-packages (from bottleneck) (2.0.2)\n"
          ]
        }
      ],
      "execution_count": 1
    },
    {
      "cell_type": "code",
      "source": [
        "# 设置Tushare API Token并初始化\n",
        "ts.set_token('2876ea85cb005fb5fa17c809a98174f2d5aae8b1f830110a5ead6211')\n",
        "pro = ts.pro_api()\n"
      ],
      "metadata": {
        "id": "T75P3LmWVr5V"
      },
      "execution_count": 2,
      "outputs": []
    },
    {
      "cell_type": "code",
      "source": [
        "# 获取沪深300成分股前50\n",
        "def get_hs300_top50(start_date , end_date):\n",
        "    try:\n",
        "        df = pro.index_weight(index_code='000300.SH', start_date= start_date, end_date= end_date)\n",
        "        if df.empty:\n",
        "            raise ValueError(\"未获取到沪深300成分股数据\")\n",
        "        else:\n",
        "            print(\"已经获取数据，正在运行模型...\")\n",
        "\n",
        "        df = df.sort_values('weight', ascending=False).head(50)\n",
        "        return df['con_code'].tolist()\n",
        "    except Exception as e:\n",
        "        print(f\"获取沪深300成分股失败: {e}\")\n",
        "        return []\n",
        "\n",
        "# 获取股票日频数据\n",
        "def get_data(start_date, end_date, stock_list):\n",
        "    df_list = []\n",
        "    for stock in stock_list:\n",
        "        try:\n",
        "            temp_df = pro.daily(\n",
        "                ts_code=stock,\n",
        "                start_date=start_date,\n",
        "                end_date=end_date,\n",
        "                fields='ts_code,trade_date,open,close,high,low,vol,pct_chg'\n",
        "            )\n",
        "            if not temp_df.empty:\n",
        "                df_list.append(temp_df)\n",
        "            else:\n",
        "                print(f\"股票 {stock} 在 {start_date} 至 {end_date} 无数据\")\n",
        "        except Exception as e:\n",
        "            print(f\"获取股票 {stock} 数据失败: {e}\")\n",
        "\n",
        "    if not df_list:\n",
        "        print(f\"时间范围 {start_date} 至 {end_date} 无任何股票数据\")\n",
        "        return pd.DataFrame()\n",
        "\n",
        "    try:\n",
        "        df = pd.concat(df_list)\n",
        "        df.rename(columns={'vol': 'volume', 'pct_chg': 'return'}, inplace=True)\n",
        "        df['return'] = df['return'] / 100\n",
        "        df['trade_date'] = pd.to_datetime(df['trade_date'])\n",
        "\n",
        "        # 检查并移除重复的 trade_date 和 ts_code 组合\n",
        "        duplicates = df.duplicated(subset=['trade_date', 'ts_code'], keep=False)\n",
        "        if duplicates.any():\n",
        "            print(f\"警告: 发现重复数据，共 {duplicates.sum()} 条，自动保留最后一条\")\n",
        "            df = df.drop_duplicates(subset=['trade_date', 'ts_code'], keep='last')\n",
        "\n",
        "        return df.pivot(index='trade_date', columns='ts_code')\n",
        "    except Exception as e:\n",
        "        print(f\"数据合并失败: {e}\")\n",
        "        return pd.DataFrame()\n",
        ""
      ],
      "metadata": {
        "trusted": true,
        "execution": {
          "iopub.status.busy": "2025-04-12T08:57:24.082705Z",
          "iopub.execute_input": "2025-04-12T08:57:24.083075Z",
          "iopub.status.idle": "2025-04-12T08:57:24.090339Z",
          "shell.execute_reply.started": "2025-04-12T08:57:24.083039Z",
          "shell.execute_reply": "2025-04-12T08:57:24.089233Z"
        },
        "id": "-8aTVgNAOJfF"
      },
      "outputs": [],
      "execution_count": 3
    },
    {
      "cell_type": "code",
      "source": [
        "# 初始化种群\n",
        "def initialize_population(size, function_list):\n",
        "    population = []\n",
        "    for _ in range(size):\n",
        "        formula = random.choice(function_list)\n",
        "        population.append(formula)\n",
        "    return population\n"
      ],
      "metadata": {
        "trusted": true,
        "execution": {
          "iopub.status.busy": "2025-04-12T08:57:24.091587Z",
          "iopub.execute_input": "2025-04-12T08:57:24.091942Z",
          "iopub.status.idle": "2025-04-12T08:57:24.113795Z",
          "shell.execute_reply.started": "2025-04-12T08:57:24.091909Z",
          "shell.execute_reply": "2025-04-12T08:57:24.112742Z"
        },
        "id": "cgIhvkdcOJfF"
      },
      "outputs": [],
      "execution_count": 4
    },
    {
      "cell_type": "code",
      "source": [
        "# 适应度计算\n",
        "def calculate_fitness(formula, data):\n",
        "    try:\n",
        "        factor_values = eval(formula, {'np': np, 'bn': bn}, {'data': data})\n",
        "        rank_ic = bn.nanrankdata(factor_values, axis=0)\n",
        "        returns = bn.nanrankdata(data['return'].values, axis=0)\n",
        "        mask = ~(np.isnan(rank_ic) | np.isnan(returns))\n",
        "        if mask.sum() < 2:\n",
        "            return -1\n",
        "        corr, _ = spearmanr(rank_ic[mask], returns[mask])\n",
        "        return corr if not np.isnan(corr) else -1\n",
        "    except:\n",
        "        return -1\n"
      ],
      "metadata": {
        "trusted": true,
        "execution": {
          "iopub.status.busy": "2025-04-12T08:57:24.115528Z",
          "iopub.execute_input": "2025-04-12T08:57:24.116034Z",
          "iopub.status.idle": "2025-04-12T08:57:24.13586Z",
          "shell.execute_reply.started": "2025-04-12T08:57:24.116006Z",
          "shell.execute_reply": "2025-04-12T08:57:24.13486Z"
        },
        "id": "d2j40C2lOJfF"
      },
      "outputs": [],
      "execution_count": 5
    },
    {
      "cell_type": "code",
      "source": [
        "# 进化过程\n",
        "def evolve_population(population, data, generations):\n",
        "    for _ in range(generations):\n",
        "        # 并行计算适应度\n",
        "        fitness_scores = [(formula, calculate_fitness(formula, data)) for formula in population]\n",
        "        # 筛选高适应度因子\n",
        "        fitness_scores = sorted(fitness_scores, key=lambda x: x[1], reverse=True)[:int(len(fitness_scores)*0.6)]\n",
        "        population = [item[0] for item in fitness_scores if item[1] > 0.015]\n",
        "\n",
        "        if not population:\n",
        "            return []\n",
        "\n",
        "        # 交叉与变异\n",
        "        new_population = []\n",
        "        while len(new_population) < len(population):\n",
        "            parent1, parent2 = random.sample(population, 2)\n",
        "            new_formula = f\"({parent1}) + ({parent2})\"\n",
        "            if random.random() < 0.1:  # 变异\n",
        "                operations = ['+', '*', '-']\n",
        "                new_formula = new_formula.replace('+', random.choice(operations))\n",
        "            new_population.append(new_formula)\n",
        "        population = new_population[:len(population)]\n",
        "    return population\n"
      ],
      "metadata": {
        "trusted": true,
        "execution": {
          "iopub.status.busy": "2025-04-12T08:57:24.137008Z",
          "iopub.execute_input": "2025-04-12T08:57:24.137298Z",
          "iopub.status.idle": "2025-04-12T08:57:24.155697Z",
          "shell.execute_reply.started": "2025-04-12T08:57:24.137268Z",
          "shell.execute_reply": "2025-04-12T08:57:24.154646Z"
        },
        "id": "_Ydo-LY8OJfG"
      },
      "outputs": [],
      "execution_count": 6
    },
    {
      "cell_type": "code",
      "source": [
        "# 计算残差收益率\n",
        "def calculate_residual_return(data, factor_pool):\n",
        "    if not factor_pool:\n",
        "        return data['return']\n",
        "    try:\n",
        "        X = np.column_stack([eval(formula, {'np': np, 'bn': bn}, {'data': data}) for formula in factor_pool])\n",
        "        y = data['return'].values\n",
        "        mask = ~(np.isnan(X).any(axis=1) | np.isnan(y))\n",
        "        if mask.sum() < 2:\n",
        "            return data['return']\n",
        "        lr = LinearRegression()\n",
        "        lr.fit(X[mask], y[mask])\n",
        "        residuals = y - lr.predict(X)\n",
        "        return pd.Series(residuals, index=data.index)\n",
        "    except Exception as e:\n",
        "        print(f\"残差计算错误: {e}\")\n",
        "        return data['return']\n",
        "\n"
      ],
      "metadata": {
        "trusted": true,
        "id": "es5LrLciOJfG"
      },
      "outputs": [],
      "execution_count": 7
    },
    {
      "cell_type": "code",
      "source": [
        "def rolling_factor_extraction(start_date, end_date, interval_years=1):\n",
        "    stock_list = get_hs300_top50(start_date, end_date,)\n",
        "    if not stock_list:\n",
        "        print(\"无法获取股票列表，退出\")\n",
        "        return []\n",
        "\n",
        "    current_date = pd.to_datetime(start_date)\n",
        "    end_date = pd.to_datetime(end_date)\n",
        "    factor_pool = []\n",
        "    function_list = [\n",
        "        \"data['open'] + data['close']\",\n",
        "        \"data['high'] - data['low']\",\n",
        "        \"bn.move_mean(data['volume'], window=5)\",\n",
        "        \"np.log(data['open'] + 1)\",\n",
        "        \"data['close'] / (data['high'] + 1e-10)\"\n",
        "    ]\n",
        "\n",
        "    # 设置最早数据日期，防止获取过早的数据\n",
        "    earliest_date = pd.to_datetime('20150101')\n",
        "\n",
        "    while current_date < end_date:\n",
        "        sample_start = (current_date - pd.DateOffset(years=6))\n",
        "        # 限制最早日期\n",
        "        if sample_start < earliest_date:\n",
        "            sample_start = earliest_date\n",
        "        sample_start = sample_start.strftime('%Y%m%d')\n",
        "        sample_end = current_date.strftime('%Y%m%d')\n",
        "\n",
        "        print(f\"正在处理窗口: {sample_start} 至 {sample_end}\")\n",
        "        data = get_data(sample_start, sample_end, stock_list)\n",
        "\n",
        "        if data.empty:\n",
        "            print(f\"无数据: {sample_start} 至 {sample_end}\")\n",
        "            current_date += pd.DateOffset(years=interval_years)\n",
        "            continue\n",
        "\n",
        "        population_size = 500\n",
        "        generations = 4\n",
        "        population = initialize_population(population_size, function_list)\n",
        "\n",
        "        try:\n",
        "            residual_return = calculate_residual_return(data, factor_pool)\n",
        "            final_population = evolve_population(population, data, generations)\n",
        "\n",
        "            for formula in final_population:\n",
        "                try:\n",
        "                    factor_values = eval(formula, {'np': np, 'bn': bn}, {'data': data})\n",
        "                    corr = pd.Series(factor_values).corr(residual_return)\n",
        "                    if abs(corr) < 0.8 and not np.isnan(corr):\n",
        "                        factor_pool.append(formula)\n",
        "                except:\n",
        "                    continue\n",
        "        except Exception as e:\n",
        "            print(f\"处理错误: {e}\")\n",
        "\n",
        "        current_date += pd.DateOffset(years=interval_years)\n",
        "        factor_pool = factor_pool[-100:]\n",
        "\n",
        "    return factor_pool"
      ],
      "metadata": {
        "trusted": true,
        "id": "AqeN7ij1OJfG"
      },
      "outputs": [],
      "execution_count": 8
    },
    {
      "cell_type": "code",
      "source": [
        "# 执行\n",
        "def main():\n",
        "  start_date = '20200101'\n",
        "  end_date = '20240101'\n",
        "  print(f\"因子挖掘范围: {start_date} 至 {end_date}\")\n",
        "  rolling_factors = rolling_factor_extraction(start_date, end_date)\n",
        "  print(\"挖掘的因子公式:\")\n",
        "  for factor in rolling_factors:\n",
        "      print(factor)\n",
        "\n",
        "if __name__ == \"__main__\":\n",
        "    main()"
      ],
      "metadata": {
        "colab": {
          "base_uri": "https://localhost:8080/"
        },
        "id": "YGyrAJsARBiy",
        "outputId": "f5b6ef24-ab68-465b-e01c-21fc06d8944c"
      },
      "execution_count": null,
      "outputs": [
        {
          "output_type": "stream",
          "name": "stdout",
          "text": [
            "因子挖掘范围: 20200101 至 20240101\n",
            "已经获取数据，正在运行模型...\n",
            "正在处理窗口: 20150101 至 20200101\n"
          ]
        }
      ]
    }
  ]
}