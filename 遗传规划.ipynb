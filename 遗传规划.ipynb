{
  "nbformat": 4,
  "nbformat_minor": 0,
  "metadata": {
    "colab": {
      "provenance": [],
      "authorship_tag": "ABX9TyOIODfBzCi99jGxC/oTXy73",
      "include_colab_link": true
    },
    "kernelspec": {
      "name": "python3",
      "display_name": "Python 3"
    },
    "language_info": {
      "name": "python"
    }
  },
  "cells": [
    {
      "cell_type": "markdown",
      "metadata": {
        "id": "view-in-github",
        "colab_type": "text"
      },
      "source": [
        "<a href=\"https://colab.research.google.com/github/Sam-ai904/Huatai-Model/blob/main/%E9%81%97%E4%BC%A0%E8%A7%84%E5%88%92.ipynb\" target=\"_parent\"><img src=\"https://colab.research.google.com/assets/colab-badge.svg\" alt=\"Open In Colab\"/></a>"
      ]
    },
    {
      "cell_type": "code",
      "execution_count": 28,
      "metadata": {
        "id": "S_wzjScyqA0D"
      },
      "outputs": [],
      "source": [
        "# !pip install Tushare\n",
        "# !pip install deap\n",
        "import tushare as ts\n",
        "import pandas as pd\n",
        "import numpy as np\n",
        "from deap import base, creator, tools, algorithms,gp\n",
        "import operator\n",
        "import random\n",
        "import datetime\n",
        "from scipy.stats import pearsonr\n"
      ]
    },
    {
      "cell_type": "code",
      "source": [
        "ts.set_token('2876ea85cb005fb5fa17c809a98174f2d5aae8b1f830110a5ead6211')  # 替换为你的 Tushare Token\n",
        "pro = ts.pro_api()"
      ],
      "metadata": {
        "id": "kn7VOGE4t_rr"
      },
      "execution_count": 29,
      "outputs": []
    },
    {
      "cell_type": "code",
      "source": [
        "def get_stock_data(stock_code, start_date, end_date):\n",
        "    \"\"\"获取 A 股日线数据\"\"\"\n",
        "    df = pro.daily(ts_code=stock_code, start_date=start_date, end_date=end_date)\n",
        "    df = df.sort_values('trade_date')  # 按日期升序\n",
        "    df['return'] = df['close'].pct_change().shift(-1)  # 未来1日收益率\n",
        "    df = df.dropna()  # 移除缺失值\n",
        "    return df[['trade_date', 'open', 'high', 'low', 'close', 'vol', 'amount', 'return']]"
      ],
      "metadata": {
        "id": "Jue12LuvuDCh"
      },
      "execution_count": 30,
      "outputs": []
    },
    {
      "cell_type": "code",
      "source": [
        "def get_hs300_data(start_date, end_date):\n",
        "    \"\"\"获取沪深300成分股数据\"\"\"\n",
        "    hs300 = pro.index_weight(index_code='399300.SZ', start_date=start_date, end_date=end_date)\n",
        "    stock_codes = hs300['con_code'].unique()[:50]  # 取前50只股票（可调整）\n",
        "    data = {}\n",
        "    for code in stock_codes:\n",
        "        try:\n",
        "            df = get_stock_data(code, start_date, end_date)\n",
        "            if not df.empty:\n",
        "                data[code] = df\n",
        "        except:\n",
        "            continue\n",
        "    return data"
      ],
      "metadata": {
        "id": "JkrevJ8oxCja"
      },
      "execution_count": 31,
      "outputs": []
    },
    {
      "cell_type": "code",
      "source": [
        "# ------------------- 遗传规划设置 -------------------\n",
        "# 定义操作符\n",
        "def safe_div(x, y):\n",
        "    \"\"\"安全除法，避免除零\"\"\"\n",
        "    return x / y if y != 0 else 1.0\n",
        "\n",
        "pset = gp.PrimitiveSet(\"MAIN\", 4)  # 输入4个变量：open, close, vol, amount\n",
        "pset.addPrimitive(operator.add, 2) #定义加法 传输两个值\n",
        "pset.addPrimitive(operator.sub, 2)\n",
        "pset.addPrimitive(operator.mul, 2)\n",
        "pset.addPrimitive(safe_div, 2)\n",
        "pset.addPrimitive(np.log1p, 1)  # log(1+x)\n",
        "pset.addPrimitive(np.sin, 1)\n",
        "pset.addEphemeralConstant(\"rand\", lambda: random.uniform(-1, 1))  # 随机常数 这里用了匿名函数，但其实用正常函数也行\n",
        "pset.renameArguments(ARG0='open', ARG1='close', ARG2='vol', ARG3='amount') #重命名变量\n",
        "\n",
        "# 定义适应度函数和个体\n",
        "creator.create(\"FitnessMax\", base.Fitness, weights=(1.0,))  # 最大化IC create函数参数为 名称 继承基类 属性 这里的属性weight主要是给Fitness用的\n",
        "creator.create(\"Individual\", gp.PrimitiveTree, fitness=creator.FitnessMax) #create函数参数为 名称 继承基类 属性 这里定义了舒适度fitness 使用了上面定义的FitnessMax\n",
        "\n",
        "toolbox = base.Toolbox()\n",
        "#toolbox的register函数 需要传递名称，函数 关键参数 非关键参数\n",
        "#其目的是注册一个新函数 简化调用 但其实不注册直接调里面涉及的genGrow，initIterate initRepeat compile函数也是可以的，可能这样写好看\n",
        "\n",
        "# toolbox.register(\"expr\", gp.genGrow, pset=pset, min_= 1, max_= 3 )\n",
        "\n",
        "# 初始种群用 genHalfAndHalf，混合 genGrow 和 genFull\n",
        "toolbox.register(\"expr\", gp.genHalfAndHalf, pset=pset, min_=1, max_=3)\n",
        "# 变异仍用 genFull 确保完整性\n",
        "toolbox.register(\"expr_mut\", gp.genFull, pset=pset, min_=1, max_=3)\n",
        "\n",
        "toolbox.register(\"individual\", tools.initIterate, creator.Individual, toolbox.expr)\n",
        "toolbox.register(\"population\", tools.initRepeat, list, toolbox.individual)\n",
        "toolbox.register(\"compile\", gp.compile, pset=pset)\n",
        "toolbox.register(\"select\", tools.selTournament, tournsize=3) #选三个个体打比赛\n",
        "toolbox.register(\"mate\", gp.cxOnePoint)  # 使用 gp.cxOnePoint实现交叉操作\n",
        "toolbox.register(\"expr_mut\", gp.genFull, pset=pset, min_=1, max_=3)  # 使用 genFull实现变异表达式 其专注于生成新子树 是构成变异操作的一环 但不是变异操作！\n",
        "toolbox.register(\"mutate\", gp.mutUniform, expr=toolbox.expr_mut, pset=pset) #使用mutUniform实现变异操作\n",
        "\n",
        "# 添加深度限制\n",
        "toolbox.decorate(\"mate\", gp.staticLimit(key=operator.attrgetter(\"height\"), max_value=3))\n",
        "toolbox.decorate(\"mutate\", gp.staticLimit(key=operator.attrgetter(\"height\"), max_value=3))"
      ],
      "metadata": {
        "colab": {
          "base_uri": "https://localhost:8080/"
        },
        "id": "JWIgOiqWhM0M",
        "outputId": "4679752d-5942-434a-fe91-2496064b637c"
      },
      "execution_count": 32,
      "outputs": [
        {
          "output_type": "stream",
          "name": "stderr",
          "text": [
            "/usr/local/lib/python3.11/dist-packages/deap/gp.py:257: RuntimeWarning: Ephemeral rand function cannot be pickled because its generating function is a lambda function. Use functools.partial instead.\n",
            "  warnings.warn(\"Ephemeral {name} function cannot be \"\n",
            "/usr/local/lib/python3.11/dist-packages/deap/creator.py:185: RuntimeWarning: A class named 'FitnessMax' has already been created and it will be overwritten. Consider deleting previous creation of that class or rename it.\n",
            "  warnings.warn(\"A class named '{0}' has already been created and it \"\n",
            "/usr/local/lib/python3.11/dist-packages/deap/creator.py:185: RuntimeWarning: A class named 'Individual' has already been created and it will be overwritten. Consider deleting previous creation of that class or rename it.\n",
            "  warnings.warn(\"A class named '{0}' has already been created and it \"\n"
          ]
        }
      ]
    },
    {
      "cell_type": "code",
      "source": [
        "# ------------------- 因子评估 -------------------\n",
        "def evaluate_factor(individual, data):\n",
        "    \"\"\"计算因子的 IC（信息系数）\"\"\"\n",
        "    func = toolbox.compile(expr=individual)\n",
        "    ic_scores = []\n",
        "\n",
        "    for stock, df in data.items():\n",
        "        try:\n",
        "            # 计算因子值\n",
        "            factor = [func(row.open, row.close, row.vol, row.amount)\n",
        "                     for _, row in df.iterrows()]\n",
        "            factor = np.array(factor)\n",
        "            returns = df['return'].values\n",
        "\n",
        "            # 计算 IC（皮尔逊相关系数）\n",
        "            if len(factor) == len(returns) and np.std(factor) > 0:\n",
        "                ic, _ = pearsonr(factor, returns)\n",
        "                ic_scores.append(ic)\n",
        "        except:\n",
        "            continue\n",
        "\n",
        "    # 返回平均 IC（忽略 NaN）\n",
        "    return np.nanmean(ic_scores) if ic_scores else -1.0,\n"
      ],
      "metadata": {
        "id": "D2lapN7VxJ8X"
      },
      "execution_count": 33,
      "outputs": []
    },
    {
      "cell_type": "code",
      "source": [
        "def main():\n",
        "    # 设置时间范围\n",
        "    start_date = '20230101'\n",
        "    end_date = '20241231'\n",
        "\n",
        "    # 获取数据\n",
        "    print(\"获取数据...\")\n",
        "    data = get_hs300_data(start_date, end_date)\n",
        "    if not data:\n",
        "        print(\"无可用数据！\")\n",
        "        return\n",
        "\n",
        "    # 定义包装函数\n",
        "    def evaluate(individual):\n",
        "        return evaluate_factor(individual, data)\n",
        "\n",
        "    # 注册 evaluate\n",
        "    toolbox.register(\"evaluate\", evaluate)\n",
        "\n",
        "    # 初始化种群\n",
        "    pop = toolbox.population(n=100)\n",
        "    hof = tools.HallOfFame(1)  # 保存最佳个体\n",
        "\n",
        "    # 遗传规划参数\n",
        "    stats = tools.Statistics(lambda ind: ind.fitness.values)\n",
        "    stats.register(\"avg\", np.mean)\n",
        "    stats.register(\"max\", np.max)\n",
        "\n",
        "    # 运行遗传规划\n",
        "    print(\"运行遗传规划...\")\n",
        "    pop, log = algorithms.eaSimple(pop, toolbox,\n",
        "                                  cxpb=0.7, mutpb=0.2,\n",
        "                                  ngen=20, stats=stats,\n",
        "                                  halloffame=hof, verbose=True)\n",
        "\n",
        "    # 输出最佳因子\n",
        "    best_individual = hof[0]\n",
        "    print(\"\\n最佳因子表达式:\", str(best_individual))\n",
        "    print(\"最佳因子 IC:\", best_individual.fitness.values[0])\n",
        "\n",
        "if __name__ == \"__main__\":\n",
        "    main()"
      ],
      "metadata": {
        "colab": {
          "base_uri": "https://localhost:8080/"
        },
        "id": "qqigdo8-xMRv",
        "outputId": "dafd7a9b-08c1-46f2-c4d9-e94d4f6043b8"
      },
      "execution_count": null,
      "outputs": [
        {
          "output_type": "stream",
          "name": "stdout",
          "text": [
            "获取数据...\n",
            "运行遗传规划...\n"
          ]
        },
        {
          "output_type": "stream",
          "name": "stderr",
          "text": [
            "<ipython-input-33-65191754d13b>:17: ConstantInputWarning: An input array is constant; the correlation coefficient is not defined.\n",
            "  ic, _ = pearsonr(factor, returns)\n",
            "<ipython-input-33-65191754d13b>:23: RuntimeWarning: Mean of empty slice\n",
            "  return np.nanmean(ic_scores) if ic_scores else -1.0,\n",
            "<string>:1: RuntimeWarning: invalid value encountered in log1p\n"
          ]
        },
        {
          "output_type": "stream",
          "name": "stdout",
          "text": [
            "gen\tnevals\tavg\tmax\n",
            "0  \t100   \tnan\tnan\n",
            "1  \t81    \tnan\tnan\n",
            "2  \t72    \tnan\tnan\n",
            "3  \t77    \tnan\tnan\n"
          ]
        }
      ]
    }
  ]
}